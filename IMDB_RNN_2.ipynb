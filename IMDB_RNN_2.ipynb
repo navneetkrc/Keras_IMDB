{
  "nbformat": 4,
  "nbformat_minor": 0,
  "metadata": {
    "colab": {
      "name": "IMDB_RNN_2.ipynb",
      "version": "0.3.2",
      "provenance": [],
      "collapsed_sections": [],
      "toc_visible": true,
      "include_colab_link": true
    },
    "kernelspec": {
      "name": "python3",
      "display_name": "Python 3"
    },
    "accelerator": "GPU"
  },
  "cells": [
    {
      "cell_type": "markdown",
      "metadata": {
        "id": "view-in-github",
        "colab_type": "text"
      },
      "source": [
        "<a href=\"https://colab.research.google.com/github/navneetkrc/Keras_IMDB/blob/master/IMDB_RNN_2.ipynb\" target=\"_parent\"><img src=\"https://colab.research.google.com/assets/colab-badge.svg\" alt=\"Open In Colab\"/></a>"
      ]
    },
    {
      "cell_type": "markdown",
      "metadata": {
        "id": "Sr9oR1A9RdN-",
        "colab_type": "text"
      },
      "source": [
        "# IMDB Dataset: Sentiement Analysis"
      ]
    },
    {
      "cell_type": "markdown",
      "metadata": {
        "id": "PyyNV6hARgrq",
        "colab_type": "text"
      },
      "source": [
        "**Using 1D Convnets + GRU layers, and Word Embeddings. 88.78% Validation Accuracy. 85.34% Testing Accuracy.**"
      ]
    },
    {
      "cell_type": "code",
      "metadata": {
        "id": "2VHVcJd2RZh7",
        "colab_type": "code",
        "colab": {}
      },
      "source": [
        "import numpy as np\n",
        "import matplotlib.pyplot as plt\n",
        "plt.style.use('fivethirtyeight')"
      ],
      "execution_count": 0,
      "outputs": []
    },
    {
      "cell_type": "code",
      "metadata": {
        "id": "DKzUnj7dRnJD",
        "colab_type": "code",
        "outputId": "cb99323f-7b58-48c0-d3b9-13421f600a9c",
        "colab": {
          "base_uri": "https://localhost:8080/",
          "height": 34
        }
      },
      "source": [
        "from keras.datasets import imdb\n",
        "from keras import models\n",
        "from keras import layers\n",
        "from keras.preprocessing.sequence import pad_sequences"
      ],
      "execution_count": 2,
      "outputs": [
        {
          "output_type": "stream",
          "text": [
            "Using TensorFlow backend.\n"
          ],
          "name": "stderr"
        }
      ]
    },
    {
      "cell_type": "code",
      "metadata": {
        "id": "wDbPhN64SFur",
        "colab_type": "code",
        "colab": {}
      },
      "source": [
        "max_features = 10000  # Only include top 10,000 words in the vocabulary\n",
        "maxlen = 500  # Cut off each review after 500 words\n",
        "batch_size = 32"
      ],
      "execution_count": 0,
      "outputs": []
    },
    {
      "cell_type": "markdown",
      "metadata": {
        "id": "R8sGE4KIyM5Q",
        "colab_type": "text"
      },
      "source": [
        "##My dataset"
      ]
    },
    {
      "cell_type": "code",
      "metadata": {
        "id": "jMfSJE2Vvj11",
        "colab_type": "code",
        "colab": {
          "base_uri": "https://localhost:8080/",
          "height": 204
        },
        "outputId": "966b8af5-8c99-44e7-b962-26448076aa6f"
      },
      "source": [
        "![ ! -d data ] && mkdir data/\n",
        "![ -f data/aclImdb_v1.tar.gz ] && echo \"Skip Download\"\n",
        "![ ! -f data/aclImdb_v1.tar.gz ] && wget -N https://ai.stanford.edu/~amaas/data/sentiment/aclImdb_v1.tar.gz -P data/"
      ],
      "execution_count": 4,
      "outputs": [
        {
          "output_type": "stream",
          "text": [
            "--2019-08-31 17:37:46--  https://ai.stanford.edu/~amaas/data/sentiment/aclImdb_v1.tar.gz\n",
            "Resolving ai.stanford.edu (ai.stanford.edu)... 171.64.68.10\n",
            "Connecting to ai.stanford.edu (ai.stanford.edu)|171.64.68.10|:443... connected.\n",
            "HTTP request sent, awaiting response... 200 OK\n",
            "Length: 84125825 (80M) [application/x-gzip]\n",
            "Saving to: ‘data/aclImdb_v1.tar.gz’\n",
            "\n",
            "aclImdb_v1.tar.gz   100%[===================>]  80.23M  21.0MB/s    in 6.8s    \n",
            "\n",
            "2019-08-31 17:37:54 (11.9 MB/s) - ‘data/aclImdb_v1.tar.gz’ saved [84125825/84125825]\n",
            "\n"
          ],
          "name": "stdout"
        }
      ]
    },
    {
      "cell_type": "code",
      "metadata": {
        "id": "vX_I5xLQwhi_",
        "colab_type": "code",
        "colab": {
          "base_uri": "https://localhost:8080/",
          "height": 51
        },
        "outputId": "b631ae0e-5d97-4713-d6a3-808dbc6e5f4d"
      },
      "source": [
        "%%time\n",
        "![ -d data/aclImdb/ ] && echo \"Data already extracted\"\n",
        "![ ! -d data/aclImdb/ ] && tar -xzf data/aclImdb_v1.tar.gz -C data/"
      ],
      "execution_count": 5,
      "outputs": [
        {
          "output_type": "stream",
          "text": [
            "CPU times: user 71.7 ms, sys: 15.3 ms, total: 87.1 ms\n",
            "Wall time: 11.7 s\n"
          ],
          "name": "stdout"
        }
      ]
    },
    {
      "cell_type": "markdown",
      "metadata": {
        "id": "rwfhrtaGyQjF",
        "colab_type": "text"
      },
      "source": [
        "#original process"
      ]
    },
    {
      "cell_type": "code",
      "metadata": {
        "id": "j_uA39s9SIeU",
        "colab_type": "code",
        "outputId": "e9f3a965-c97f-47a4-eb73-b2facafaa0d5",
        "colab": {
          "base_uri": "https://localhost:8080/",
          "height": 51
        }
      },
      "source": [
        "(X_train, y_train), (X_test, y_test) = imdb.load_data(num_words = max_features)"
      ],
      "execution_count": 6,
      "outputs": [
        {
          "output_type": "stream",
          "text": [
            "Downloading data from https://s3.amazonaws.com/text-datasets/imdb.npz\n",
            "17465344/17464789 [==============================] - 3s 0us/step\n"
          ],
          "name": "stdout"
        }
      ]
    },
    {
      "cell_type": "code",
      "metadata": {
        "id": "qfqyh606SKBP",
        "colab_type": "code",
        "outputId": "5d449ea9-e673-4bf9-a33c-eb291b87abb4",
        "colab": {
          "base_uri": "https://localhost:8080/",
          "height": 34
        }
      },
      "source": [
        "X_train.shape, X_test.shape"
      ],
      "execution_count": 7,
      "outputs": [
        {
          "output_type": "execute_result",
          "data": {
            "text/plain": [
              "((25000,), (25000,))"
            ]
          },
          "metadata": {
            "tags": []
          },
          "execution_count": 7
        }
      ]
    },
    {
      "cell_type": "code",
      "metadata": {
        "id": "StfRSygoSL_F",
        "colab_type": "code",
        "outputId": "c9f67c22-6490-47ad-fe78-b7856d7f8298",
        "colab": {
          "base_uri": "https://localhost:8080/",
          "height": 34
        }
      },
      "source": [
        "y_train[1], y_train[2], y_test[4]"
      ],
      "execution_count": 8,
      "outputs": [
        {
          "output_type": "execute_result",
          "data": {
            "text/plain": [
              "(0, 0, 1)"
            ]
          },
          "metadata": {
            "tags": []
          },
          "execution_count": 8
        }
      ]
    },
    {
      "cell_type": "code",
      "metadata": {
        "id": "8Tiozc3YSNkO",
        "colab_type": "code",
        "colab": {}
      },
      "source": [
        "# Padding the data so that each sequence is of exactly 500 words\n",
        "\n",
        "X_train = pad_sequences(X_train, maxlen = maxlen)\n",
        "X_test = pad_sequences(X_test, maxlen = maxlen)"
      ],
      "execution_count": 0,
      "outputs": []
    },
    {
      "cell_type": "code",
      "metadata": {
        "id": "p30W4aSCSO8m",
        "colab_type": "code",
        "outputId": "52da1a87-1fbc-470d-b0fc-b40cf3a3dd72",
        "colab": {
          "base_uri": "https://localhost:8080/",
          "height": 34
        }
      },
      "source": [
        "X_train.shape, X_test.shape"
      ],
      "execution_count": 10,
      "outputs": [
        {
          "output_type": "execute_result",
          "data": {
            "text/plain": [
              "((25000, 500), (25000, 500))"
            ]
          },
          "metadata": {
            "tags": []
          },
          "execution_count": 10
        }
      ]
    },
    {
      "cell_type": "code",
      "metadata": {
        "id": "TmkxHb_WSQdG",
        "colab_type": "code",
        "outputId": "7aae698a-0da6-45de-8572-213cca64f344",
        "colab": {
          "base_uri": "https://localhost:8080/",
          "height": 275
        }
      },
      "source": [
        "# Building the Model\n",
        "\n",
        "model = models.Sequential()\n",
        "model.add(layers.Embedding(max_features, 32, input_length = maxlen))\n",
        "model.add(layers.Conv1D(32, 5, activation = 'relu'))\n",
        "model.add(layers.MaxPooling1D(3))\n",
        "model.add(layers.Conv1D(32, 5, activation = 'relu'))\n",
        "model.add(layers.MaxPooling1D(3))\n",
        "model.add(layers.Dropout(0.2))\n",
        "model.add(layers.CuDNNGRU(32))  # return_sequences = False\n",
        "model.add(layers.Dense(1, activation = 'sigmoid'))"
      ],
      "execution_count": 11,
      "outputs": [
        {
          "output_type": "stream",
          "text": [
            "WARNING: Logging before flag parsing goes to stderr.\n",
            "W0831 17:40:41.062589 139910763235200 deprecation_wrapper.py:119] From /usr/local/lib/python3.6/dist-packages/keras/backend/tensorflow_backend.py:66: The name tf.get_default_graph is deprecated. Please use tf.compat.v1.get_default_graph instead.\n",
            "\n",
            "W0831 17:40:41.113735 139910763235200 deprecation_wrapper.py:119] From /usr/local/lib/python3.6/dist-packages/keras/backend/tensorflow_backend.py:541: The name tf.placeholder is deprecated. Please use tf.compat.v1.placeholder instead.\n",
            "\n",
            "W0831 17:40:41.125632 139910763235200 deprecation_wrapper.py:119] From /usr/local/lib/python3.6/dist-packages/keras/backend/tensorflow_backend.py:4432: The name tf.random_uniform is deprecated. Please use tf.random.uniform instead.\n",
            "\n",
            "W0831 17:40:41.177429 139910763235200 deprecation_wrapper.py:119] From /usr/local/lib/python3.6/dist-packages/keras/backend/tensorflow_backend.py:4267: The name tf.nn.max_pool is deprecated. Please use tf.nn.max_pool2d instead.\n",
            "\n",
            "W0831 17:40:41.203715 139910763235200 deprecation_wrapper.py:119] From /usr/local/lib/python3.6/dist-packages/keras/backend/tensorflow_backend.py:148: The name tf.placeholder_with_default is deprecated. Please use tf.compat.v1.placeholder_with_default instead.\n",
            "\n",
            "W0831 17:40:41.213217 139910763235200 deprecation.py:506] From /usr/local/lib/python3.6/dist-packages/keras/backend/tensorflow_backend.py:3733: calling dropout (from tensorflow.python.ops.nn_ops) with keep_prob is deprecated and will be removed in a future version.\n",
            "Instructions for updating:\n",
            "Please use `rate` instead of `keep_prob`. Rate should be set to `rate = 1 - keep_prob`.\n"
          ],
          "name": "stderr"
        }
      ]
    },
    {
      "cell_type": "markdown",
      "metadata": {
        "id": "FwSLCcovTjaL",
        "colab_type": "text"
      },
      "source": [
        "Since CuDNN doesn't support dropout and recurrent_dropout, we couldn't write the following:\n",
        "\n",
        "model.add(layers.CuDNNLSTM(32, dropout = 0.1, recurrent_dropout = 0.5))\n",
        "\n",
        "Hence, our model will be inferior in case of small datasets: https://github.com/keras-team/keras/issues/8935\n"
      ]
    },
    {
      "cell_type": "code",
      "metadata": {
        "id": "8eIp0IxmTP0G",
        "colab_type": "code",
        "outputId": "c338cf23-aea4-4f4a-e3e4-9a93899aaa40",
        "colab": {
          "base_uri": "https://localhost:8080/",
          "height": 425
        }
      },
      "source": [
        "model.summary()"
      ],
      "execution_count": 12,
      "outputs": [
        {
          "output_type": "stream",
          "text": [
            "Model: \"sequential_1\"\n",
            "_________________________________________________________________\n",
            "Layer (type)                 Output Shape              Param #   \n",
            "=================================================================\n",
            "embedding_1 (Embedding)      (None, 500, 32)           320000    \n",
            "_________________________________________________________________\n",
            "conv1d_1 (Conv1D)            (None, 496, 32)           5152      \n",
            "_________________________________________________________________\n",
            "max_pooling1d_1 (MaxPooling1 (None, 165, 32)           0         \n",
            "_________________________________________________________________\n",
            "conv1d_2 (Conv1D)            (None, 161, 32)           5152      \n",
            "_________________________________________________________________\n",
            "max_pooling1d_2 (MaxPooling1 (None, 53, 32)            0         \n",
            "_________________________________________________________________\n",
            "dropout_1 (Dropout)          (None, 53, 32)            0         \n",
            "_________________________________________________________________\n",
            "cu_dnngru_1 (CuDNNGRU)       (None, 32)                6336      \n",
            "_________________________________________________________________\n",
            "dense_1 (Dense)              (None, 1)                 33        \n",
            "=================================================================\n",
            "Total params: 336,673\n",
            "Trainable params: 336,673\n",
            "Non-trainable params: 0\n",
            "_________________________________________________________________\n"
          ],
          "name": "stdout"
        }
      ]
    },
    {
      "cell_type": "code",
      "metadata": {
        "id": "g1-jRIoOTbSg",
        "colab_type": "code",
        "outputId": "7758e6d4-4a2a-4158-a992-17b1b9404083",
        "colab": {
          "base_uri": "https://localhost:8080/",
          "height": 156
        }
      },
      "source": [
        "# Compiling the Model\n",
        "\n",
        "model.compile(loss = 'binary_crossentropy', optimizer = 'rmsprop', metrics = ['acc'])# Compiling the Model"
      ],
      "execution_count": 13,
      "outputs": [
        {
          "output_type": "stream",
          "text": [
            "W0831 17:40:43.451728 139910763235200 deprecation_wrapper.py:119] From /usr/local/lib/python3.6/dist-packages/keras/optimizers.py:793: The name tf.train.Optimizer is deprecated. Please use tf.compat.v1.train.Optimizer instead.\n",
            "\n",
            "W0831 17:40:43.488396 139910763235200 deprecation_wrapper.py:119] From /usr/local/lib/python3.6/dist-packages/keras/backend/tensorflow_backend.py:3657: The name tf.log is deprecated. Please use tf.math.log instead.\n",
            "\n",
            "W0831 17:40:43.496586 139910763235200 deprecation.py:323] From /usr/local/lib/python3.6/dist-packages/tensorflow/python/ops/nn_impl.py:180: add_dispatch_support.<locals>.wrapper (from tensorflow.python.ops.array_ops) is deprecated and will be removed in a future version.\n",
            "Instructions for updating:\n",
            "Use tf.where in 2.0, which has the same broadcast rule as np.where\n"
          ],
          "name": "stderr"
        }
      ]
    },
    {
      "cell_type": "code",
      "metadata": {
        "id": "pyOdbvZ8Tm0g",
        "colab_type": "code",
        "outputId": "aee07bb5-b17a-4f0d-cbed-2723de72e5ef",
        "colab": {
          "base_uri": "https://localhost:8080/",
          "height": 564
        }
      },
      "source": [
        "# Training\n",
        "\n",
        "history = model.fit(X_train, y_train, batch_size = batch_size, epochs = 15, validation_split = 0.2)"
      ],
      "execution_count": 14,
      "outputs": [
        {
          "output_type": "stream",
          "text": [
            "Train on 20000 samples, validate on 5000 samples\n",
            "Epoch 1/15\n",
            "20000/20000 [==============================] - 17s 853us/step - loss: 0.4361 - acc: 0.7792 - val_loss: 0.3013 - val_acc: 0.8750\n",
            "Epoch 2/15\n",
            "20000/20000 [==============================] - 10s 518us/step - loss: 0.2519 - acc: 0.9013 - val_loss: 0.2782 - val_acc: 0.8844\n",
            "Epoch 3/15\n",
            "20000/20000 [==============================] - 10s 514us/step - loss: 0.1986 - acc: 0.9259 - val_loss: 0.3458 - val_acc: 0.8574\n",
            "Epoch 4/15\n",
            "20000/20000 [==============================] - 10s 511us/step - loss: 0.1597 - acc: 0.9420 - val_loss: 0.3047 - val_acc: 0.8862\n",
            "Epoch 5/15\n",
            "20000/20000 [==============================] - 10s 515us/step - loss: 0.1302 - acc: 0.9532 - val_loss: 0.3199 - val_acc: 0.8772\n",
            "Epoch 6/15\n",
            "20000/20000 [==============================] - 10s 515us/step - loss: 0.1020 - acc: 0.9643 - val_loss: 0.3884 - val_acc: 0.8728\n",
            "Epoch 7/15\n",
            "20000/20000 [==============================] - 10s 517us/step - loss: 0.0743 - acc: 0.9761 - val_loss: 0.4201 - val_acc: 0.8696\n",
            "Epoch 8/15\n",
            "20000/20000 [==============================] - 10s 514us/step - loss: 0.0458 - acc: 0.9849 - val_loss: 0.4467 - val_acc: 0.8758\n",
            "Epoch 9/15\n",
            "20000/20000 [==============================] - 10s 524us/step - loss: 0.0305 - acc: 0.9909 - val_loss: 0.4894 - val_acc: 0.8706\n",
            "Epoch 10/15\n",
            "20000/20000 [==============================] - 11s 525us/step - loss: 0.0200 - acc: 0.9944 - val_loss: 0.5638 - val_acc: 0.8684\n",
            "Epoch 11/15\n",
            "20000/20000 [==============================] - 10s 521us/step - loss: 0.0129 - acc: 0.9967 - val_loss: 0.6590 - val_acc: 0.8692\n",
            "Epoch 12/15\n",
            "20000/20000 [==============================] - 10s 524us/step - loss: 0.0095 - acc: 0.9979 - val_loss: 0.7312 - val_acc: 0.8654\n",
            "Epoch 13/15\n",
            "20000/20000 [==============================] - 10s 521us/step - loss: 0.0066 - acc: 0.9984 - val_loss: 0.8252 - val_acc: 0.8640\n",
            "Epoch 14/15\n",
            "20000/20000 [==============================] - 10s 518us/step - loss: 0.0038 - acc: 0.9990 - val_loss: 1.0216 - val_acc: 0.8654\n",
            "Epoch 15/15\n",
            "20000/20000 [==============================] - 10s 521us/step - loss: 0.0033 - acc: 0.9995 - val_loss: 1.2274 - val_acc: 0.8518\n"
          ],
          "name": "stdout"
        }
      ]
    },
    {
      "cell_type": "code",
      "metadata": {
        "id": "pOisAUTsTqwL",
        "colab_type": "code",
        "colab": {}
      },
      "source": [
        "loss = history.history['loss']\n",
        "val_loss = history.history['val_loss']\n",
        "acc = history.history['acc']\n",
        "val_acc = history.history['val_acc']"
      ],
      "execution_count": 0,
      "outputs": []
    },
    {
      "cell_type": "code",
      "metadata": {
        "id": "IljVRLu0UXi0",
        "colab_type": "code",
        "colab": {
          "base_uri": "https://localhost:8080/",
          "height": 304
        },
        "outputId": "b03b2ce9-d029-4cd8-8f2e-0fd63a64291b"
      },
      "source": [
        "# Plotting Training and Validation Loss\n",
        "\n",
        "epochs = range(1, 16)\n",
        "\n",
        "plt.plot(epochs, loss, 'go', label = 'Training Loss')\n",
        "plt.plot(epochs, val_loss, 'g', label = 'Validation Loss')\n",
        "plt.xlabel('Epochs')\n",
        "plt.ylabel('Loss')\n",
        "plt.legend()\n",
        "plt.show()"
      ],
      "execution_count": 16,
      "outputs": [
        {
          "output_type": "display_data",
          "data": {
            "image/png": "[encoded data removed]",
            "text/plain": [
              "<Figure size 432x288 with 1 Axes>"
            ]
          },
          "metadata": {
            "tags": []
          }
        }
      ]
    },
    {
      "cell_type": "code",
      "metadata": {
        "id": "MfOv0jqaUY6T",
        "colab_type": "code",
        "colab": {
          "base_uri": "https://localhost:8080/",
          "height": 304
        },
        "outputId": "8d1f3abf-6eea-4194-9493-8f6490a01a1d"
      },
      "source": [
        "# Plotting Training and Validation Accuracy\n",
        "\n",
        "plt.plot(epochs, acc, 'bo', label = 'Training Accuarcy')\n",
        "plt.plot(epochs, val_acc, 'b', label = 'Validation Accuracy')\n",
        "plt.xlabel('Epochs')\n",
        "plt.ylabel('Accuracy')\n",
        "plt.legend()\n",
        "plt.show()"
      ],
      "execution_count": 17,
      "outputs": [
        {
          "output_type": "display_data",
          "data": {
            "image/png": "[encoded data removed]",
            "text/plain": [
              "<Figure size 432x288 with 1 Axes>"
            ]
          },
          "metadata": {
            "tags": []
          }
        }
      ]
    },
    {
      "cell_type": "code",
      "metadata": {
        "id": "V7Mz3tYfUaYL",
        "colab_type": "code",
        "colab": {
          "base_uri": "https://localhost:8080/",
          "height": 51
        },
        "outputId": "bb534d0b-7e5a-4774-a14a-a08e5d21d6d7"
      },
      "source": [
        "# Testing\n",
        "\n",
        "model.evaluate(X_test, y_test)"
      ],
      "execution_count": 18,
      "outputs": [
        {
          "output_type": "stream",
          "text": [
            "25000/25000 [==============================] - 4s 168us/step\n"
          ],
          "name": "stdout"
        },
        {
          "output_type": "execute_result",
          "data": {
            "text/plain": [
              "[1.301112588903308, 0.8444]"
            ]
          },
          "metadata": {
            "tags": []
          },
          "execution_count": 18
        }
      ]
    },
    {
      "cell_type": "code",
      "metadata": {
        "id": "dBwcveXLw_cZ",
        "colab_type": "code",
        "colab": {}
      },
      "source": [
        ""
      ],
      "execution_count": 0,
      "outputs": []
    }
  ]
}