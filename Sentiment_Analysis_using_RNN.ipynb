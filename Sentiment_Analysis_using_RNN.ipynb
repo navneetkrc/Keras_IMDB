{
  "nbformat": 4,
  "nbformat_minor": 0,
  "metadata": {
    "kernelspec": {
      "name": "python3",
      "display_name": "Python 3"
    },
    "language_info": {
      "codemirror_mode": {
        "name": "ipython",
        "version": 3
      },
      "file_extension": ".py",
      "mimetype": "text/x-python",
      "name": "python",
      "nbconvert_exporter": "python",
      "pygments_lexer": "ipython3",
      "version": "3.5.5"
    },
    "colab": {
      "name": "Sentiment Analysis using RNN.ipynb",
      "version": "0.3.2",
      "provenance": [],
      "include_colab_link": true
    },
    "accelerator": "GPU"
  },
  "cells": [
    {
      "cell_type": "markdown",
      "metadata": {
        "id": "view-in-github",
        "colab_type": "text"
      },
      "source": [
        "<a href=\"https://colab.research.google.com/github/navneetkrc/Keras_IMDB/blob/master/Sentiment_Analysis_using_RNN.ipynb\" target=\"_parent\"><img src=\"https://colab.research.google.com/assets/colab-badge.svg\" alt=\"Open In Colab\"/></a>"
      ]
    },
    {
      "cell_type": "code",
      "metadata": {
        "id": "nfLH2ho_0yAV",
        "colab_type": "code",
        "colab": {
          "base_uri": "https://localhost:8080/",
          "height": 34
        },
        "outputId": "194562a1-e3dc-4a9d-df7b-cbc480fa3efb"
      },
      "source": [
        "from keras.preprocessing import sequence\n",
        "from keras.models import Sequential\n",
        "from keras.layers import Dense, Embedding\n",
        "from keras.layers import LSTM\n",
        "from keras.datasets import imdb"
      ],
      "execution_count": 1,
      "outputs": [
        {
          "output_type": "stream",
          "text": [
            "Using TensorFlow backend.\n"
          ],
          "name": "stderr"
        }
      ]
    },
    {
      "cell_type": "code",
      "metadata": {
        "id": "lx-J9NNV0yAY",
        "colab_type": "code",
        "colab": {
          "base_uri": "https://localhost:8080/",
          "height": 51
        },
        "outputId": "35290514-37ff-4e86-fe62-9c472f129ff6"
      },
      "source": [
        "(X_train, y_train), (X_test, y_test) = imdb.load_data(num_words=20000)"
      ],
      "execution_count": 2,
      "outputs": [
        {
          "output_type": "stream",
          "text": [
            "Downloading data from https://s3.amazonaws.com/text-datasets/imdb.npz\n",
            "17465344/17464789 [==============================] - 2s 0us/step\n"
          ],
          "name": "stdout"
        }
      ]
    },
    {
      "cell_type": "code",
      "metadata": {
        "id": "zDJhDP0_0yAa",
        "colab_type": "code",
        "colab": {
          "base_uri": "https://localhost:8080/",
          "height": 34
        },
        "outputId": "72fdc933-e09e-4feb-b50a-64097da22a06"
      },
      "source": [
        "y_train[0]"
      ],
      "execution_count": 3,
      "outputs": [
        {
          "output_type": "execute_result",
          "data": {
            "text/plain": [
              "1"
            ]
          },
          "metadata": {
            "tags": []
          },
          "execution_count": 3
        }
      ]
    },
    {
      "cell_type": "code",
      "metadata": {
        "id": "xi36eel90yAc",
        "colab_type": "code",
        "colab": {}
      },
      "source": [
        "X_train = sequence.pad_sequences(X_train, maxlen=80)\n",
        "X_test = sequence.pad_sequences(X_test, maxlen=80)"
      ],
      "execution_count": 0,
      "outputs": []
    },
    {
      "cell_type": "code",
      "metadata": {
        "id": "2-iMfH5_0yAe",
        "colab_type": "code",
        "colab": {}
      },
      "source": [
        "model = Sequential()\n",
        "model.add(Embedding(20000, 128))\n",
        "model.add(LSTM(128, dropout=0.2, recurrent_dropout=0.2))\n",
        "model.add(Dense(1, activation='sigmoid'))"
      ],
      "execution_count": 0,
      "outputs": []
    },
    {
      "cell_type": "code",
      "metadata": {
        "id": "4T_fLU1v0yAf",
        "colab_type": "code",
        "colab": {}
      },
      "source": [
        "model.compile(loss='binary_crossentropy', optimizer='adam', metrics=['accuracy'])"
      ],
      "execution_count": 0,
      "outputs": []
    },
    {
      "cell_type": "code",
      "metadata": {
        "id": "cYagDu830yAh",
        "colab_type": "code",
        "colab": {
          "base_uri": "https://localhost:8080/",
          "height": 323
        },
        "outputId": "622e5bf2-a3f7-4d0c-d836-3ba3cd236204"
      },
      "source": [
        "model.fit(X_train, y_train, batch_size=32, epochs=15, verbose=2, validation_data=(X_test, y_test))"
      ],
      "execution_count": 0,
      "outputs": [
        {
          "output_type": "stream",
          "text": [
            "Train on 25000 samples, validate on 25000 samples\n",
            "Epoch 1/15\n",
            " - 154s - loss: 0.4660 - acc: 0.7774 - val_loss: 0.4033 - val_acc: 0.8203\n",
            "Epoch 2/15\n",
            " - 145s - loss: 0.2993 - acc: 0.8781 - val_loss: 0.4016 - val_acc: 0.8332\n",
            "Epoch 3/15\n",
            " - 145s - loss: 0.2197 - acc: 0.9147 - val_loss: 0.4684 - val_acc: 0.8255\n",
            "Epoch 4/15\n",
            " - 147s - loss: 0.1565 - acc: 0.9416 - val_loss: 0.4993 - val_acc: 0.8239\n",
            "Epoch 5/15\n",
            " - 150s - loss: 0.1100 - acc: 0.9620 - val_loss: 0.5831 - val_acc: 0.8186\n",
            "Epoch 6/15\n",
            " - 150s - loss: 0.0776 - acc: 0.9741 - val_loss: 0.6579 - val_acc: 0.8202\n",
            "Epoch 7/15\n",
            " - 151s - loss: 0.0592 - acc: 0.9800 - val_loss: 0.7516 - val_acc: 0.8136\n",
            "Epoch 8/15\n",
            " - 147s - loss: 0.0405 - acc: 0.9877 - val_loss: 0.7765 - val_acc: 0.8158\n",
            "Epoch 9/15\n"
          ],
          "name": "stdout"
        }
      ]
    },
    {
      "cell_type": "code",
      "metadata": {
        "id": "UU8pFnBZ0yAj",
        "colab_type": "code",
        "colab": {}
      },
      "source": [
        "score, acc = model.evaluate(X_test, y_test, batch_size=32, verbose=2)\n",
        "print('test score: ', score)\n",
        "print('test accuracy: ', acc)"
      ],
      "execution_count": 0,
      "outputs": []
    },
    {
      "cell_type": "code",
      "metadata": {
        "id": "uingmy-g0yAl",
        "colab_type": "code",
        "colab": {}
      },
      "source": [
        ""
      ],
      "execution_count": 0,
      "outputs": []
    }
  ]
}